{
 "cells": [
  {
   "cell_type": "code",
   "execution_count": 2,
   "metadata": {},
   "outputs": [],
   "source": [
    "import pandas as pd"
   ]
  },
  {
   "cell_type": "code",
   "execution_count": 10,
   "metadata": {},
   "outputs": [],
   "source": [
    "data = pd.read_csv(\"data/disabilityconfident.csv\", encoding=\"ISO-8859-1\")"
   ]
  },
  {
   "cell_type": "code",
   "execution_count": 12,
   "metadata": {},
   "outputs": [
    {
     "data": {
      "text/html": [
       "<div>\n",
       "<style scoped>\n",
       "    .dataframe tbody tr th:only-of-type {\n",
       "        vertical-align: middle;\n",
       "    }\n",
       "\n",
       "    .dataframe tbody tr th {\n",
       "        vertical-align: top;\n",
       "    }\n",
       "\n",
       "    .dataframe thead th {\n",
       "        text-align: right;\n",
       "    }\n",
       "</style>\n",
       "<table border=\"1\" class=\"dataframe\">\n",
       "  <thead>\n",
       "    <tr style=\"text-align: right;\">\n",
       "      <th></th>\n",
       "      <th>Business name</th>\n",
       "      <th>Town or city</th>\n",
       "      <th>Postcode</th>\n",
       "      <th>Sector</th>\n",
       "      <th>DC level (Committed, Employer, Leader)</th>\n",
       "    </tr>\n",
       "  </thead>\n",
       "  <tbody>\n",
       "    <tr>\n",
       "      <th>0</th>\n",
       "      <td>1 Business Enterprise t/a Get Set Academy</td>\n",
       "      <td>Blackburn</td>\n",
       "      <td>BB2</td>\n",
       "      <td>Education / Teaching</td>\n",
       "      <td>Committed</td>\n",
       "    </tr>\n",
       "    <tr>\n",
       "      <th>1</th>\n",
       "      <td>1 Less Worry Payroll Services Ltd</td>\n",
       "      <td>Plymouth</td>\n",
       "      <td>PL3</td>\n",
       "      <td>Financial Services</td>\n",
       "      <td>Committed</td>\n",
       "    </tr>\n",
       "    <tr>\n",
       "      <th>2</th>\n",
       "      <td>1 Stop Healthcare</td>\n",
       "      <td>Colchester</td>\n",
       "      <td>CO3</td>\n",
       "      <td>Recruitment Agencies</td>\n",
       "      <td>Employer</td>\n",
       "    </tr>\n",
       "    <tr>\n",
       "      <th>3</th>\n",
       "      <td>121 Captions Limited</td>\n",
       "      <td>London</td>\n",
       "      <td>W1A</td>\n",
       "      <td>Customer service</td>\n",
       "      <td>Committed</td>\n",
       "    </tr>\n",
       "    <tr>\n",
       "      <th>4</th>\n",
       "      <td>1620 PIMM Limited</td>\n",
       "      <td>Southampton</td>\n",
       "      <td>SO16</td>\n",
       "      <td>Education / Teaching</td>\n",
       "      <td>Employer</td>\n",
       "    </tr>\n",
       "  </tbody>\n",
       "</table>\n",
       "</div>"
      ],
      "text/plain": [
       "                                Business name Town or city Postcode  \\\n",
       "0  1 Business Enterprise t/a Get Set Academy     Blackburn      BB2   \n",
       "1          1 Less Worry Payroll Services Ltd     Plymouth       PL3   \n",
       "2                           1 Stop Healthcare   Colchester      CO3   \n",
       "3                        121 Captions Limited       London      W1A   \n",
       "4                           1620 PIMM Limited  Southampton     SO16   \n",
       "\n",
       "                 Sector DC level (Committed, Employer, Leader)  \n",
       "0  Education / Teaching                              Committed  \n",
       "1    Financial Services                              Committed  \n",
       "2  Recruitment Agencies                               Employer  \n",
       "3      Customer service                              Committed  \n",
       "4  Education / Teaching                               Employer  "
      ]
     },
     "execution_count": 12,
     "metadata": {},
     "output_type": "execute_result"
    }
   ],
   "source": [
    "data.head()"
   ]
  },
  {
   "cell_type": "code",
   "execution_count": 36,
   "metadata": {},
   "outputs": [],
   "source": [
    "#data.groupby(\"Postcode\").count()\n",
    "data['FirstPostcode'] = data['Postcode'].str[:2]"
   ]
  },
  {
   "cell_type": "code",
   "execution_count": 37,
   "metadata": {},
   "outputs": [
    {
     "data": {
      "text/html": [
       "<div>\n",
       "<style scoped>\n",
       "    .dataframe tbody tr th:only-of-type {\n",
       "        vertical-align: middle;\n",
       "    }\n",
       "\n",
       "    .dataframe tbody tr th {\n",
       "        vertical-align: top;\n",
       "    }\n",
       "\n",
       "    .dataframe thead th {\n",
       "        text-align: right;\n",
       "    }\n",
       "</style>\n",
       "<table border=\"1\" class=\"dataframe\">\n",
       "  <thead>\n",
       "    <tr style=\"text-align: right;\">\n",
       "      <th></th>\n",
       "      <th>Business name</th>\n",
       "      <th>Town or city</th>\n",
       "      <th>Postcode</th>\n",
       "      <th>Sector</th>\n",
       "      <th>DC level (Committed, Employer, Leader)</th>\n",
       "      <th>FirstPostcode</th>\n",
       "    </tr>\n",
       "  </thead>\n",
       "  <tbody>\n",
       "    <tr>\n",
       "      <th>0</th>\n",
       "      <td>1 Business Enterprise t/a Get Set Academy</td>\n",
       "      <td>Blackburn</td>\n",
       "      <td>BB2</td>\n",
       "      <td>Education / Teaching</td>\n",
       "      <td>Committed</td>\n",
       "      <td>BB</td>\n",
       "    </tr>\n",
       "    <tr>\n",
       "      <th>1</th>\n",
       "      <td>1 Less Worry Payroll Services Ltd</td>\n",
       "      <td>Plymouth</td>\n",
       "      <td>PL3</td>\n",
       "      <td>Financial Services</td>\n",
       "      <td>Committed</td>\n",
       "      <td>PL</td>\n",
       "    </tr>\n",
       "    <tr>\n",
       "      <th>2</th>\n",
       "      <td>1 Stop Healthcare</td>\n",
       "      <td>Colchester</td>\n",
       "      <td>CO3</td>\n",
       "      <td>Recruitment Agencies</td>\n",
       "      <td>Employer</td>\n",
       "      <td>CO</td>\n",
       "    </tr>\n",
       "    <tr>\n",
       "      <th>3</th>\n",
       "      <td>121 Captions Limited</td>\n",
       "      <td>London</td>\n",
       "      <td>W1A</td>\n",
       "      <td>Customer service</td>\n",
       "      <td>Committed</td>\n",
       "      <td>W1</td>\n",
       "    </tr>\n",
       "    <tr>\n",
       "      <th>4</th>\n",
       "      <td>1620 PIMM Limited</td>\n",
       "      <td>Southampton</td>\n",
       "      <td>SO16</td>\n",
       "      <td>Education / Teaching</td>\n",
       "      <td>Employer</td>\n",
       "      <td>SO</td>\n",
       "    </tr>\n",
       "  </tbody>\n",
       "</table>\n",
       "</div>"
      ],
      "text/plain": [
       "                                Business name Town or city Postcode  \\\n",
       "0  1 Business Enterprise t/a Get Set Academy     Blackburn      BB2   \n",
       "1          1 Less Worry Payroll Services Ltd     Plymouth       PL3   \n",
       "2                           1 Stop Healthcare   Colchester      CO3   \n",
       "3                        121 Captions Limited       London      W1A   \n",
       "4                           1620 PIMM Limited  Southampton     SO16   \n",
       "\n",
       "                 Sector DC level (Committed, Employer, Leader) FirstPostcode  \n",
       "0  Education / Teaching                              Committed            BB  \n",
       "1    Financial Services                              Committed            PL  \n",
       "2  Recruitment Agencies                               Employer            CO  \n",
       "3      Customer service                              Committed            W1  \n",
       "4  Education / Teaching                               Employer            SO  "
      ]
     },
     "execution_count": 37,
     "metadata": {},
     "output_type": "execute_result"
    }
   ],
   "source": [
    "data.head()"
   ]
  }
 ],
 "metadata": {
  "kernelspec": {
   "display_name": "Python 3",
   "language": "python",
   "name": "python3"
  },
  "language_info": {
   "codemirror_mode": {
    "name": "ipython",
    "version": 3
   },
   "file_extension": ".py",
   "mimetype": "text/x-python",
   "name": "python",
   "nbconvert_exporter": "python",
   "pygments_lexer": "ipython3",
   "version": "3.6.4"
  }
 },
 "nbformat": 4,
 "nbformat_minor": 2
}
